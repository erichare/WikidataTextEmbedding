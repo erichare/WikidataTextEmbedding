{
 "cells": [
  {
   "cell_type": "code",
   "execution_count": 1,
   "metadata": {},
   "outputs": [
    {
     "name": "stderr",
     "output_type": "stream",
     "text": [
      "    1: 0.20 (avg 0.20) ents/ms\n"
     ]
    }
   ],
   "source": [
    "import sys\n",
    "sys.path.append('../src')\n",
    "\n",
    "from wikidata_dumpreader import WikidataDumpReader\n",
    "import json\n",
    "\n",
    "FILEPATH = '../data/Wikidata/latest-all.json.bz2'\n",
    "BATCH_SIZE = 100\n",
    "NUM_PROCESSES = 4\n",
    "\n",
    "wikidata = WikidataDumpReader(FILEPATH, num_processes=NUM_PROCESSES, batch_size=BATCH_SIZE)\n",
    "\n",
    "outputfile = '../data/Wikidata/test.json'\n",
    "def append_to_json(item):\n",
    "    with open(outputfile, 'a+') as file:\n",
    "        file.write(json.dumps(item)+\"\\n\")\n",
    "\n",
    "async def run_processor():\n",
    "    await wikidata.run(append_to_json, max_iterations=1, verbose=True)\n",
    "\n",
    "\n",
    "with open(outputfile, 'w+') as file:\n",
    "    file.write(\"[\")\n",
    "await run_processor()\n",
    "with open(outputfile, 'a+') as file:\n",
    "    file.write(\"]\")"
   ]
  },
  {
   "cell_type": "code",
   "execution_count": null,
   "metadata": {},
   "outputs": [],
   "source": []
  }
 ],
 "metadata": {
  "kernelspec": {
   "display_name": "base",
   "language": "python",
   "name": "python3"
  },
  "language_info": {
   "codemirror_mode": {
    "name": "ipython",
    "version": 3
   },
   "file_extension": ".py",
   "mimetype": "text/x-python",
   "name": "python",
   "nbconvert_exporter": "python",
   "pygments_lexer": "ipython3",
   "version": "3.12.2"
  }
 },
 "nbformat": 4,
 "nbformat_minor": 2
}
