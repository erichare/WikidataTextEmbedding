{
 "cells": [
  {
   "cell_type": "code",
   "execution_count": 4,
   "metadata": {},
   "outputs": [
    {
     "name": "stderr",
     "output_type": "stream",
     "text": [
      "    1: 187 (avg 187) items/sec \t Memory Usage: 1292.73 MB\n",
      "    2: 270 (avg 228) items/sec \t Memory Usage: 1321.23 MB\n",
      "    3: 355 (avg 270) items/sec \t Memory Usage: 1321.98 MB\n"
     ]
    }
   ],
   "source": [
    "import sys\n",
    "sys.path.append('../src')\n",
    "\n",
    "from wikidata_dumpreader import WikidataDumpReader\n",
    "import json\n",
    "\n",
    "FILEPATH = '../data/Wikidata/latest-all.json.bz2'\n",
    "BATCH_SIZE = 100\n",
    "NUM_PROCESSES = 4\n",
    "\n",
    "wikidata = WikidataDumpReader(FILEPATH, num_processes=NUM_PROCESSES, batch_size=BATCH_SIZE)\n",
    "\n",
    "outputfile = '../data/Wikidata/test.json'\n",
    "def append_to_json(item):\n",
    "    with open(outputfile, 'a+') as file:\n",
    "        file.write(json.dumps(item)+\",\\n\")\n",
    "\n",
    "async def run_processor():\n",
    "    await wikidata.run(append_to_json, max_iterations=3, verbose=True)\n",
    "\n",
    "\n",
    "with open(outputfile, 'w+') as file:\n",
    "    file.write(\"[\")\n",
    "\n",
    "await run_processor()\n",
    "\n",
    "with open(outputfile, 'a+') as file:\n",
    "    # Remove the last comma and new line\n",
    "    file.seek(0, 2)\n",
    "    file_size = file.tell()\n",
    "    file.seek(file_size - 2)\n",
    "    file.truncate()\n",
    "\n",
    "    file.write(\"]\")"
   ]
  },
  {
   "cell_type": "code",
   "execution_count": 9,
   "metadata": {},
   "outputs": [
    {
     "data": {
      "text/plain": [
       "23917869"
      ]
     },
     "execution_count": 9,
     "metadata": {},
     "output_type": "execute_result"
    }
   ],
   "source": [
    "isEnglish['all']"
   ]
  },
  {
   "cell_type": "code",
   "execution_count": 12,
   "metadata": {},
   "outputs": [
    {
     "data": {
      "text/plain": [
       "1454466.90625"
      ]
     },
     "execution_count": 12,
     "metadata": {},
     "output_type": "execute_result"
    }
   ],
   "source": [
    "isEnglish['all_size']"
   ]
  },
  {
   "cell_type": "code",
   "execution_count": 1,
   "metadata": {},
   "outputs": [
    {
     "name": "stderr",
     "output_type": "stream",
     "text": [
      "    1: 1032 (avg 1032) items/sec \t Memory Usage: 3285.41 MB\n",
      "    2: 1553 (avg 1292) items/sec \t Memory Usage: 3292.11 MB\n"
     ]
    }
   ],
   "source": [
    "import sys\n",
    "sys.path.append('../src')\n",
    "\n",
    "from wikidata_dumpreader import WikidataDumpReader\n",
    "import json\n",
    "\n",
    "FILEPATH = '../data/Wikidata/latest-all.json.bz2'\n",
    "BATCH_SIZE = 10000\n",
    "NUM_PROCESSES = 8\n",
    "\n",
    "wikidata = WikidataDumpReader(FILEPATH, num_processes=NUM_PROCESSES, batch_size=BATCH_SIZE)\n",
    "\n",
    "Wikitypes = {}\n",
    "isEnglish = {}\n",
    "total = 0\n",
    "def count_types(item):\n",
    "    global total\n",
    "    global Wikitypes\n",
    "    global isEnglish\n",
    "    \n",
    "    if item is not None:\n",
    "        Wikitypes[item['type']] = Wikitypes.get(item['type'], 0) +1\n",
    "        isEnglish['labels'] = isEnglish.get('labels', 0) + (1 if 'en' in item['labels'] else 0)\n",
    "        isEnglish['descriptions'] = isEnglish.get('descriptions', 0) + (1 if 'en' in item['descriptions'] else 0)\n",
    "        isEnglish['both'] = isEnglish.get('both', 0) + (1 if ('en' in item['descriptions']) and ('en' in item['labels']) else 0)\n",
    "        if 'sitelinks' in item:\n",
    "            isEnglish['wikipediaLink'] = isEnglish.get('both', 0) + (1 if 'enwiki' in item['sitelinks'] else 0)\n",
    "            isEnglish['all'] = isEnglish.get('both', 0) + (1 if ('en' in item['descriptions']) and ('en' in item['labels']) and ('enwiki' in item['sitelinks']) else 0)\n",
    "            isEnglish['all_size'] = isEnglish.get('all_size', 0) + (sys.getsizeof(item)/(1024**3) if ('en' in item['descriptions']) and ('en' in item['labels']) and ('enwiki' in item['sitelinks']) else 0)\n",
    "        total += 1\n",
    "\n",
    "async def run_processor():\n",
    "    await wikidata.run(count_types, max_iterations=None, verbose=True)\n",
    "\n",
    "await run_processor()"
   ]
  },
  {
   "cell_type": "code",
   "execution_count": null,
   "metadata": {},
   "outputs": [],
   "source": [
    "def process_file_in_zip(zip_file, file_name):\n",
    "    with zipfile.ZipFile(zip_file) as z:\n",
    "        with z.open(file_name) as f:\n",
    "            # `f` is an iterable, yielding lines from the file\n",
    "            with ThreadPoolExecutor() as executor:\n",
    "                executor.map(process_line, f) "
   ]
  },
  {
   "cell_type": "code",
   "execution_count": 5,
   "metadata": {},
   "outputs": [
    {
     "data": {
      "text/plain": [
       "[{'language': 'en', 'value': 'joy'}, {'language': 'en', 'value': 'happy'}]"
      ]
     },
     "execution_count": 5,
     "metadata": {},
     "output_type": "execute_result"
    }
   ],
   "source": [
    "data = json.load(open(outputfile, 'r+'))\n",
    "data[1]['labels']['en']\n",
    "data[1]['descriptions']['en']\n",
    "data[1]['aliases']['en']"
   ]
  },
  {
   "cell_type": "code",
   "execution_count": 34,
   "metadata": {},
   "outputs": [
    {
     "data": {
      "text/plain": [
       "{'site': 'enwiki', 'title': 'Belgium', 'badges': []}"
      ]
     },
     "execution_count": 34,
     "metadata": {},
     "output_type": "execute_result"
    }
   ],
   "source": [
    "data[1]['sitelinks']['enwiki']"
   ]
  },
  {
   "cell_type": "code",
   "execution_count": 18,
   "metadata": {},
   "outputs": [
    {
     "data": {
      "text/plain": [
       "{'mainsnak': {'snaktype': 'value',\n",
       "  'property': 'P361',\n",
       "  'datavalue': {'value': {'entity-type': 'item',\n",
       "    'numeric-id': 215669,\n",
       "    'id': 'Q215669'},\n",
       "   'type': 'wikibase-entityid'},\n",
       "  'datatype': 'wikibase-item'},\n",
       " 'type': 'statement',\n",
       " 'id': 'Q31$2BBFC346-FD6A-4EB1-89CC-5ABB0D5987F8',\n",
       " 'rank': 'normal'}"
      ]
     },
     "execution_count": 18,
     "metadata": {},
     "output_type": "execute_result"
    }
   ],
   "source": [
    "data[1]['claims']['P361'][0]"
   ]
  },
  {
   "cell_type": "code",
   "execution_count": 29,
   "metadata": {},
   "outputs": [
    {
     "data": {
      "text/plain": [
       "{'snaktype': 'value',\n",
       " 'property': 'P571',\n",
       " 'datavalue': {'value': {'time': '+1830-10-04T00:00:00Z',\n",
       "   'timezone': 0,\n",
       "   'before': 0,\n",
       "   'after': 0,\n",
       "   'precision': 11,\n",
       "   'calendarmodel': 'http://www.wikidata.org/entity/Q1985727'},\n",
       "  'type': 'time'},\n",
       " 'datatype': 'time'}"
      ]
     },
     "execution_count": 29,
     "metadata": {},
     "output_type": "execute_result"
    }
   ],
   "source": [
    "data[1]['claims']['P571'][0]['mainsnak']"
   ]
  }
 ],
 "metadata": {
  "kernelspec": {
   "display_name": "base",
   "language": "python",
   "name": "python3"
  },
  "language_info": {
   "codemirror_mode": {
    "name": "ipython",
    "version": 3
   },
   "file_extension": ".py",
   "mimetype": "text/x-python",
   "name": "python",
   "nbconvert_exporter": "python",
   "pygments_lexer": "ipython3",
   "version": "3.12.2"
  }
 },
 "nbformat": 4,
 "nbformat_minor": 2
}
